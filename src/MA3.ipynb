{
 "cells": [
  {
   "cell_type": "markdown",
   "metadata": {},
   "source": [
    "# Mandatory Assignment 3\n",
    "\n",
    "#### MAT-2201 Numerical Methods\n",
    "\n",
    " Daniel Elisabethsønn Antonsen, UiT"
   ]
  },
  {
   "cell_type": "markdown",
   "metadata": {},
   "source": [
    "Importing libraries and modules needed for the assignment."
   ]
  },
  {
   "cell_type": "code",
   "execution_count": 1,
   "metadata": {},
   "outputs": [],
   "source": [
    "import numpy as np\n",
    "import matplotlib.pyplot as plt\n",
    "import seaborn as sns\n",
    "plt.style.use('seaborn-whitegrid')"
   ]
  },
  {
   "cell_type": "markdown",
   "metadata": {},
   "source": [
    "## Problem 1\n",
    "\n",
    "*Solve Problem 3 from the MAT-2201 exam from December 2019.*\n",
    "\n",
    "A quantity $y(t)$ depends on the time variable $t$, is measured in four time points. The measurements are given in the table below."
   ]
  },
  {
   "cell_type": "markdown",
   "metadata": {},
   "source": [
    "| $t_i$ for $i = 1,...,4$ | $y_i$ for $i = 1,...,4$ |\n",
    "|------------------------|-------------------------|\n",
    "| 0                    | 1                     |\n",
    "| 1                    | 2                     |\n",
    "| 2                    | 7                     |\n",
    "| 3                    | 5                     |"
   ]
  },
  {
   "cell_type": "markdown",
   "metadata": {},
   "source": [
    "#### (a)\n",
    "\n",
    "We are here asked to find a polynomial $P(t)$ of degree $\\leq 2$ that goes through the **first three** points\n",
    "$$\n",
    "(t_1, y_1), (t_2, y_2), (t_3, y_3).\n",
    "$$\n",
    "\n",
    "To find the polynomial $P(t)$ we can make use of Lagrange interpolation, which is defined of a degree $leq 2$ as\n",
    "$$\n",
    "P_2 (t) = y_1\\frac{(t - t_2) (t - t_3)}{(t_1 - t_2)(t_1 - t_3)} + y_2\\frac{(t - t_1) (t - t_3)}{(t_2 - t_1)(t_2 - t_3)} + y_3\\frac{(t - t_1) (t - t_2)}{(t_3 - t_1)(t_3 - t_2)}\n",
    "$$\n",
    "And so by using the values given in the table we can compute the polynomial as\n",
    "\n",
    "\\begin{align*}\n",
    "P_2 (t) &= 1 \\frac{(t - 1) (t - 2)}{(0 - 1)(0 - 2)} + 2 \\frac{(t - 0) (t - 2)}{(1 - 0)(1 - 2)} + 7 \\frac{(t - 0) (t - 1)}{(2 - 0)(2 - 1)} \\\\\n",
    "&= \\frac{1}{2} t^2 - \\frac32 t + 1 - 2t^2 + 2t + \\frac{7}{2} t^2 - \\frac{7}{2} t \\\\\n",
    "&= \\underline{2t^2 - 3t + 1}\n",
    "\\end{align*}\n",
    "\n",
    "And so a polynomial $P(t)$ of degree $\\leq 2$ is given by\n",
    "$$\n",
    "\\boxed{P(t) = 2t^2 - 3t + 1}\n",
    "$$\n",
    "\n"
   ]
  },
  {
   "cell_type": "markdown",
   "metadata": {},
   "source": [
    "#### (b)\n",
    "\n",
    "We are here asked to find a polynomial $S(t)$ of degree $\\leq 2$ that fits the **four** points \n",
    "$$\n",
    "(t_1, y_1), (t_2, y_2), (t_3, y_3), (t_4, y_4).\n",
    "$$\n",
    "i.e. that **minimizes** the sum given by\n",
    "$$\n",
    "\\sum_{i=1}^4 (S(t_i) - y_i)^2.\n",
    "$$\n",
    "\n",
    "\n",
    "\n"
   ]
  }
 ],
 "metadata": {
  "kernelspec": {
   "display_name": "Python 3.10.4 64-bit",
   "language": "python",
   "name": "python3"
  },
  "language_info": {
   "codemirror_mode": {
    "name": "ipython",
    "version": 3
   },
   "file_extension": ".py",
   "mimetype": "text/x-python",
   "name": "python",
   "nbconvert_exporter": "python",
   "pygments_lexer": "ipython3",
   "version": "3.10.4"
  },
  "orig_nbformat": 4,
  "vscode": {
   "interpreter": {
    "hash": "369f2c481f4da34e4445cda3fffd2e751bd1c4d706f27375911949ba6bb62e1c"
   }
  }
 },
 "nbformat": 4,
 "nbformat_minor": 2
}
