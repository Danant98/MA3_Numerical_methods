{
 "cells": [
  {
   "cell_type": "markdown",
   "metadata": {},
   "source": [
    "# Mandatory Assignment 3\n",
    "\n",
    "#### MAT-2201 Numerical Methods\n",
    "\n",
    " Daniel Elisabethsønn Antonsen, UiT"
   ]
  },
  {
   "cell_type": "markdown",
   "metadata": {},
   "source": [
    "Importing libraries and modules needed for the assignment."
   ]
  },
  {
   "cell_type": "code",
   "execution_count": 21,
   "metadata": {},
   "outputs": [],
   "source": [
    "import numpy as np\n",
    "import matplotlib.pyplot as plt\n",
    "import sympy as sp\n",
    "plt.style.use('seaborn-whitegrid')"
   ]
  },
  {
   "cell_type": "markdown",
   "metadata": {},
   "source": [
    "## Problem 1\n",
    "\n",
    "*Solve Problem 3 from the MAT-2201 exam from December 2019.*\n",
    "\n",
    "A quantity $y(t)$ depends on the time variable $t$, is measured in four time points. The measurements are given in the table below."
   ]
  },
  {
   "cell_type": "markdown",
   "metadata": {},
   "source": [
    "| $t_i$ for $i = 1,...,4$ | $y_i$ for $i = 1,...,4$ |\n",
    "|------------------------|-------------------------|\n",
    "| 0                    | 1                     |\n",
    "| 1                    | 2                     |\n",
    "| 2                    | 7                     |\n",
    "| 3                    | 5                     |"
   ]
  },
  {
   "cell_type": "markdown",
   "metadata": {},
   "source": [
    "#### (a)\n",
    "\n",
    "We are here asked to find a polynomial $P(t)$ of degree $\\leq 2$ that goes through the **first three** points\n",
    "$$\n",
    "(t_1, y_1), (t_2, y_2), (t_3, y_3).\n",
    "$$\n",
    "\n",
    "To find the polynomial $P(t)$ we can make use of Lagrange interpolation, which is defined of a degree $\\leq 2$ as\n",
    "$$\n",
    "P_2 (t) = y_1\\frac{(t - t_2) (t - t_3)}{(t_1 - t_2)(t_1 - t_3)} + y_2\\frac{(t - t_1) (t - t_3)}{(t_2 - t_1)(t_2 - t_3)} + y_3\\frac{(t - t_1) (t - t_2)}{(t_3 - t_1)(t_3 - t_2)}\n",
    "$$\n",
    "And so by using the values given in the table we can compute the polynomial as\n",
    "\n",
    "\\begin{align*}\n",
    "P_2 (t) &= 1 \\frac{(t - 1) (t - 2)}{(0 - 1)(0 - 2)} + 2 \\frac{(t - 0) (t - 2)}{(1 - 0)(1 - 2)} + 7 \\frac{(t - 0) (t - 1)}{(2 - 0)(2 - 1)} \\\\\n",
    "&= \\frac{1}{2} t^2 - \\frac32 t + 1 - 2t^2 + 2t + \\frac{7}{2} t^2 - \\frac{7}{2} t \\\\\n",
    "&= \\underline{2t^2 - 3t + 1}\n",
    "\\end{align*}\n",
    "\n",
    "And so a polynomial $P(t)$ of degree $\\leq 2$ is given by\n",
    "$$\n",
    "\\boxed{P(t) = 2t^2 - 3t + 1}\n",
    "$$\n",
    "\n"
   ]
  },
  {
   "cell_type": "markdown",
   "metadata": {},
   "source": [
    "#### (b)\n",
    "\n",
    "We are here asked to find a polynomial $S(t)$ of degree $\\leq 2$ that fits the **four** points \n",
    "$$\n",
    "(t_1, y_1), (t_2, y_2), (t_3, y_3), (t_4, y_4).\n",
    "$$\n",
    "i.e. that **minimizes** the sum given by\n",
    "$$\n",
    "\\sum_{i=1}^4 (S(t_i) - y_i)^2.\n",
    "$$\n",
    "\n",
    "The sum given in the problem, is the squared error or residuals. We can minimize this by using the method of least squares, and if we are given a data set of $m$ data points, can be implemented in three steps.\n",
    "\n",
    "(1) Choose a model, a parametrized model. This model in our case, will be of the form\n",
    "$$\n",
    "S(t) = y = c_1 + c_2 t + c_3 t^2\n",
    "$$\n",
    "(2) We then force the model to fit the given data set by substituting in the data points. Each of the data points will then form an equation where all the unknowns are the parameters $c_1$, $c_2$ and $c_3$. This will then form the system of equation given in matrix form as \n",
    "$$\n",
    "A C = b\n",
    "$$\n",
    "Where $t$ represents the unknown parameters.  \n",
    "(3) As the last step, we solve the normal equations which gives us the least squares estimate for the parameters $C$. The solution for the normal equation in found by computing \n",
    "$$\n",
    "A^T A C = A^T b\n",
    "$$\n",
    "Or rewriting to \n",
    "$$\n",
    "C = (A^T A)^{-1} A^T b\n",
    "$$\n",
    "where $C = \\begin{pmatrix} c_1 & c_2 & c_3 \\end{pmatrix}^T$. And so, we can start by considering step $1$ and choose a model of the form \n",
    "$$\n",
    "S(t) = y = c_1 + c_2 t + c_3 t^2\n",
    "$$\n",
    "Which leads to the system of equations given as\n",
    "\n",
    "\\begin{align*}\n",
    "y_1 &= c_1 + 0 \\cdot c_2 + 0 \\cdot c_3 = 1 \\\\\n",
    "y_2 &= c_1 + c_2 + c_3 = 2 \\\\\n",
    "y_3 &= c_1 + 2 c_2 + 4 c_3 = 7 \\\\\n",
    "y_4 &= c_1 + 3 c_2 + 9 c_3 = 5\n",
    "\\end{align*}\n",
    "\n",
    "Which in matrix form can be written as \n",
    "$$\n",
    "\\begin{pmatrix} 1 & 0 & 0 \\\\ 1 & 1 & 1 \\\\ 1 & 2 & 4 \\\\ 1 & 3 & 9 \\end{pmatrix}\n",
    "\\begin{pmatrix} c_1 \\\\ c_2 \\\\ c_3 \\end{pmatrix} \n",
    "= \n",
    "\\begin{pmatrix} 1 \\\\ 2 \\\\ 7 \\\\ 5 \\end{pmatrix}\n",
    "$$\n",
    "\n",
    "We can here begin to solve and so solve the equations by finding the matricies $A^T A$ and $A^T $, before solving the normal equation by hand. Or we can simply use python code to solve the equations by implementing the matricies found above. We will here use the second choice for solving and implement python code for solving for the coefficients.\n",
    "\n",
    "We start by implementing the matricies as arrays"
   ]
  },
  {
   "cell_type": "code",
   "execution_count": 22,
   "metadata": {},
   "outputs": [],
   "source": [
    "A = np.array([[1, 0, 0], [1, 1, 1], [1, 2, 4], [1, 3, 9]])\n",
    "b = np.array([[1], [2], [7], [5]])"
   ]
  },
  {
   "cell_type": "markdown",
   "metadata": {},
   "source": [
    "Now that we have implemented the arrays for the known matricies, we can now solve the normal equations given as\n",
    "$$\n",
    "C = (A^T A)^{-1} A^T b\n",
    "$$\n",
    "And so"
   ]
  },
  {
   "cell_type": "code",
   "execution_count": 23,
   "metadata": {},
   "outputs": [
    {
     "name": "stdout",
     "output_type": "stream",
     "text": [
      "The solution for the normal equation is [[ 0.45  3.95 -0.75]]^T\n"
     ]
    }
   ],
   "source": [
    "C = np.linalg.inv(A.T@A)@A.T@b\n",
    "print(f\"The solution for the normal equation is {C.T}^T\")"
   ]
  },
  {
   "cell_type": "markdown",
   "metadata": {},
   "source": [
    "And so, with this result we have that the coefficients are given as \n",
    "$$\n",
    "C \n",
    "= \n",
    "\\begin{pmatrix} c_1 \\\\ c_2 \\\\ c_3 \\end{pmatrix}\n",
    "=\n",
    "\\begin{pmatrix} 0.45 \\\\ 3.95 \\\\ -0.75 \\end{pmatrix}\n",
    "$$\n",
    "\n",
    "Using this result, we get that a polynomial given by\n",
    "$$\n",
    "S(t) = -0.75 t^2 + 3.95 t + 0.45\n",
    "$$\n",
    "which minimizes the the sum \n",
    "$$\n",
    "\\sum_{i = 1}^4 (S(t_i) - y_i)^2.\n",
    "$$\n"
   ]
  },
  {
   "cell_type": "markdown",
   "metadata": {},
   "source": [
    "#### (c)\n",
    "\n",
    "We are given the matrix\n",
    "$$\n",
    "B = \\begin{bmatrix} 1 & 0 \\\\ 1 & 1 \\\\ 1 & 2 \\\\ 1 & 3 \\end{bmatrix}\n",
    "$$\n",
    "and is asked to find the **reduced** QR factorization of B, i.e. express B as \n",
    "$$\n",
    "B = QR\n",
    "$$\n",
    "where \n",
    "$$\n",
    "Q = \\begin{bmatrix} \\mathbf{q}_1 & \\mathbf{q}_2 \\end{bmatrix}\n",
    "$$\n",
    "is a $4\\times 2$ matrix with orthonormal columns ($\\mathbf{q}_i \\cdot \\mathbf{q}_j = 0$ if $i \\neq j$ and $1$ if $i = j$), and $R$ is an upper-triangular $2\\times 2$ matrix.\n",
    "\n",
    "We can start by computing the QR factorization we can start by setting \n",
    "$$\n",
    "y_1 = B_1 = \\begin{bmatrix} 1 \\\\ 1 \\\\ 1 \\\\ 1 \\end{bmatrix}\n",
    "$$\n",
    "Then we can further compute the $2$-norm or the Euclidean norm, which gives\n",
    "$$\n",
    "r_{1 1} = ||y_1||_2 = \\sqrt{1^2 + 1^2 + 1^2 + 1^2} = \\sqrt{4} = 2\n",
    "$$\n",
    "And so, the first unit vector is then found by\n",
    "$$\n",
    "q_1 = \\frac{y_1}{||y_1||_2} \n",
    "= \\frac12 \\begin{bmatrix} 1 \\\\ 1 \\\\ 1 \\\\ 1 \\end{bmatrix}\n",
    "= \\begin{bmatrix} 1/2 \\\\ 1/2 \\\\ 1/2 \\\\ 1/2 \\end{bmatrix}\n",
    "$$\n",
    "Now that we have found the first unit vector or the orthonormal vector, we can continue by finding the second unit vector. This can be found by\n",
    "$$\n",
    "y_2 = B_2 - q_1 q_1^T B_2 \n",
    "= \\begin{bmatrix} 0 \\\\ 1 \\\\ 2 \\\\ 3 \\end{bmatrix} - \\begin{bmatrix} 3/2 \\\\ 3/2 \\\\ 3/2 \\\\ 3/2 \\end{bmatrix}\n",
    "= \\begin{bmatrix} -3/2 \\\\ -1/2 \\\\ 1/2 \\\\ 3/2 \\end{bmatrix}\n",
    "$$\n",
    "We can now compute the $2$-norm for $y_2$ which gives us \n",
    "$$\n",
    "r_{2 2} = ||y_2||_2 = \\sqrt{(-3/2)^2 + (-1/2)^2 + (1/2)^2 + (3/2)^2} = \\sqrt{5}\n",
    "$$\n",
    "And so the second unit vector is given by \n",
    "$$\n",
    "q_2 = \\frac{y_2}{||y_2||_2} = \\frac{1}{\\sqrt{5}} \\begin{bmatrix} -3/2 \\\\ -1/2 \\\\ 1/2 \\\\ 3/2 \\end{bmatrix}\n",
    "= \\begin{bmatrix} -\\frac{3}{2\\sqrt{5}} \\\\ -\\frac{1}{2\\sqrt{5}} \\\\ \\frac{1}{2\\sqrt{5}} \\\\ \\frac{3}{2\\sqrt{5}} \\end{bmatrix}\n",
    "$$\n",
    "We can also find the element which is not on the diagonal by, and since $R$ is upper-triangular we only need to consider \n",
    "$$\n",
    "r_{1 2} = q_1^T B_2\n",
    "$$\n",
    "And so $r_{1 2} = 3$, which gives that the $QR$ factorization for the matrix $B$ is given in matrix form as\n",
    "$$\n",
    "\\boxed{B = \\begin{bmatrix} 1 & 0 \\\\ 1 & 1 \\\\ 1 & 2 \\\\ 1 & 3 \\end{bmatrix}\n",
    "= \\begin{bmatrix} 1/2 & -\\frac{3}{2\\sqrt{5}} \\\\ 1/2 & -\\frac{1}{2\\sqrt{5}} \\\\ 1/2 & \\frac{1}{2\\sqrt{5}} \\\\ 1/2 & \\frac{3}{2\\sqrt{5}} \\end{bmatrix}\n",
    "\\begin{bmatrix} 2 & 3 \\\\ 0 & \\sqrt{5} \\end{bmatrix}\n",
    "= Q R}\n",
    "$$\n",
    "\n"
   ]
  },
  {
   "cell_type": "markdown",
   "metadata": {},
   "source": [
    "#### (d)\n",
    "\n",
    "We are here asked to find a polynomial $U(t)$ of degree $\\leq 1$ that fits the **four** points \n",
    "$$\n",
    "(t_1, y_1), (t_2, y_2), (t_3, y_3), (t_4, y_4).\n",
    "$$\n",
    "i.e. that **minimizes** the sum \n",
    "$$\n",
    "\\sum_{i = 1}^4 (U(t_i) - y_i)^2.\n",
    "$$\n",
    "We are asked to do this using the QR factorization of the matrix $B$ found in the previous part.\n",
    "\n",
    "If we are given a $m\\times n$ inconsistent system, in matrix form as\n",
    "$$\n",
    "Ax = b\n",
    "$$\n",
    "then we can solve for the least square solution using the $QR$ factorization by setting\n",
    "\n",
    "\\begin{align*}\n",
    "\\hat{R} = upper\\; n\\times n\\; submatrix\\; of\\; R \\\\ \n",
    "\\hat{d} = upper\\; n\\; entries\\; of\\; d = Q^T b\n",
    "\\end{align*}\n",
    "And so, then we need to solve the equation given as \n",
    "$$\n",
    "\\hat{R} \\bar{x} = \\hat{d} = Q^T b\n",
    "$$\n",
    "for $\\bar{x}$ which is the least square solution to the system $Ax = b$. \n",
    "\n",
    "Further we can use the same three steps as described in (b) but with the slight improvisaton of using the $QR$ factorization which is found in (c) instead of solving the normal equation. We are here asked to find a polynomial which is of degree $\\leq 1$, and so our model will be \n",
    "$$\n",
    "U(t) = c_1 + c_2 t\n",
    "$$\n",
    "And so, the our system of equations will now take the form\n",
    "\n",
    "\\begin{align*}\n",
    "y_1 &= c_1 + 0 \\cdot c_2 = 1 \\\\\n",
    "y_2 &= c_1 + c_2 = 2 \\\\\n",
    "y_3 &= c_1 + 2 c_2 = 7 \\\\\n",
    "y_4 &= c_1 + 3 c_2 = 5\n",
    "\\end{align*}\n",
    "\n",
    "Which we can write in matrix form as\n",
    "$$\n",
    "\\begin{pmatrix} 1 & 0 \\\\ 1 & 1 \\\\ 1 & 2 \\\\ 1 & 3 \\end{pmatrix}\n",
    "\\begin{pmatrix} c_1 \\\\ c_2 \\end{pmatrix}\n",
    "= \\begin{pmatrix} 1 \\\\ 2 \\\\ 7 \\\\ 5 \\end{pmatrix}\n",
    "$$\n",
    "Which we can recognize is has the form $A x = b$, where in this case $B = A$ and $C = x$. And so, using the factorization from (c) we get\n",
    "$$\n",
    "\\begin{pmatrix} 2 & 3 \\\\ 0 & \\sqrt{5} \\end{pmatrix} \\begin{pmatrix} c_1 \\\\ c_2 \\end{pmatrix}\n",
    "= \\begin{pmatrix} 1/2 & 1/2 & 1/2 & 1/2 \\\\ -\\frac{3}{2\\sqrt{5}} & -\\frac{1}{2\\sqrt{5}} & \\frac{1}{2\\sqrt{5}} & \\frac{3}{2\\sqrt{5}}\\end{pmatrix}\n",
    "\\begin{pmatrix} 1 \\\\ 2 \\\\ 7 \\\\ 5 \\end{pmatrix}\n",
    "= \\begin{pmatrix} \\frac{15}{2} \\\\ \\frac{17}{2\\sqrt{5}} \\end{pmatrix}\n",
    "$$\n",
    "\n",
    "Solving this system for the $c_1$ and $c_2$, we get that the coefficients are given by\n",
    "$$\n",
    "\\begin{pmatrix} c_1 \\\\ c_2 \\end{pmatrix} = \\begin{pmatrix} 6/5 \\\\ 17/10 \\end{pmatrix}\n",
    "$$\n",
    "\n",
    "And so the polynomial $U(t)$ that minimizes the sum \n",
    "$$\n",
    "\\sum_{i = 1}^{4} (U(t_i) - y_i)^2\n",
    "$$\n",
    "is given by \n",
    "$$\n",
    "\\boxed{U(t) = \\frac{17}{10}t + \\frac{6}{5}}\n",
    "$$\n"
   ]
  },
  {
   "cell_type": "markdown",
   "metadata": {},
   "source": [
    "## Problem 2\n",
    "\n",
    "We are given the Gauss error function which is given as\n",
    "$$\n",
    "erf(x) = \\frac{2}{\\sqrt{\\pi}} \\int_{0}^{x} e^{-t^2} dt\n",
    "$$\n",
    "\n",
    "This is a function that can not be written in terms of elementary functions such as polynomials, trigonometric functions and exponential functions etc. Here our goal is to approximate the Gauss error function using elementary functions on the interval $[0,2]$ in three different ways. The motivation for this is if we can find a good approximation, then we don't have to compute (a numerical approximation of) an integral every time we need to compute $erf(x_0)$ for some $x_0 \\in [0,2]$."
   ]
  },
  {
   "cell_type": "markdown",
   "metadata": {},
   "source": [
    "#### (a)\n",
    "\n",
    "We are here asked to compute the $5$ first derivatives of the Gauss error function ($erf(x)$) and their values at $x = 0$:\n",
    "$$\n",
    "erf(0),\\; erf'(0),\\; ...,\\; erf^{(5)}(0).\n",
    "$$\n",
    "We are further asked to write down the $5th$-degree Taylor polynomial of $erf(x)$ around $x = 0$ and denote the polynomial by $T_5 (x)$. We are further asked to comment on what the multiplicity of the root $x = 0$ of $erf(x)$. \n",
    "\n",
    "For the computations which need to be performed, then we can make use of the SymPy library in Python. This is made to do symbolic computations in Python, and can handle analytic operations such as differentiation and integration. And the functions can be lambdified and further used for numerical computations. All this make the SymPy library good for our purpose, and so we will here make use of this for computing the derivatives and their values at $x = 0$.\n",
    "\n",
    "And so, we can start by defining the symbolic expressions for the variables and the Gauss error function. First the variables"
   ]
  },
  {
   "cell_type": "code",
   "execution_count": 47,
   "metadata": {},
   "outputs": [
    {
     "name": "stdout",
     "output_type": "stream",
     "text": [
      "x t\n"
     ]
    }
   ],
   "source": [
    "x, t = sp.symbols('x t')\n",
    "print(x, t)"
   ]
  },
  {
   "cell_type": "markdown",
   "metadata": {},
   "source": [
    "As we can see, we have now defined symbols for the variables that we need so we can now define the Gauss error function using SymPy."
   ]
  },
  {
   "cell_type": "code",
   "execution_count": 41,
   "metadata": {},
   "outputs": [],
   "source": [
    "erf = 2 / sp.sqrt(sp.pi) * sp.integrate(sp.exp(-t**2), (t, 0, x))"
   ]
  },
  {
   "cell_type": "markdown",
   "metadata": {},
   "source": [
    "We could here have used the already defined Gauss error function inside the library, but to illustrate that it is in fact the Gauss error function given in the problem that is used then we have here choosed to write it out.\n",
    "\n",
    "Further we can evaluate the function for a given value $x$, using the $.subs(x, a)$ and $.evalf()$ where $a$ is the given value of interest. It is also worth noting that we can lambdify a function so ot can be used for numerical computations. And so, we can evaluate the error function for $x = 0$"
   ]
  },
  {
   "cell_type": "code",
   "execution_count": 72,
   "metadata": {},
   "outputs": [
    {
     "name": "stdout",
     "output_type": "stream",
     "text": [
      "erf(0) = 0\n"
     ]
    }
   ],
   "source": [
    "print(f\"erf(0) = {erf.subs(x, 0).evalf()}\")"
   ]
  },
  {
   "cell_type": "markdown",
   "metadata": {},
   "source": [
    "The value for the Gauss error function at $x = 0$ is $0$ and $x = 0$ is a root of the function.\n",
    "\n",
    "We can now compte the first derivative of the Gauss error function using the $.diff(x)$ method from SymPy."
   ]
  },
  {
   "cell_type": "code",
   "execution_count": 89,
   "metadata": {},
   "outputs": [
    {
     "data": {
      "text/latex": [
       "$\\displaystyle \\frac{2 e^{- x^{2}}}{\\sqrt{\\pi}}$"
      ],
      "text/plain": [
       "2*exp(-x**2)/sqrt(pi)"
      ]
     },
     "execution_count": 89,
     "metadata": {},
     "output_type": "execute_result"
    }
   ],
   "source": [
    "derf = erf.diff(x)\n",
    "derf"
   ]
  },
  {
   "cell_type": "code",
   "execution_count": 90,
   "metadata": {},
   "outputs": [
    {
     "data": {
      "text/latex": [
       "$\\displaystyle 1.12837916709551$"
      ],
      "text/plain": [
       "1.12837916709551"
      ]
     },
     "execution_count": 90,
     "metadata": {},
     "output_type": "execute_result"
    }
   ],
   "source": [
    "derf.subs(x, 0).evalf()"
   ]
  },
  {
   "cell_type": "markdown",
   "metadata": {},
   "source": [
    "Using this, we find that the first derivative for $erf(x)$ is\n",
    "$$\n",
    "erf'(x) = \\frac{2 e^{-x^2}}{\\sqrt{\\pi}}\n",
    "$$\n",
    "Which can be evaluated at $x = 0$ to\n",
    "$$\n",
    "erf'(0) = \\frac{2}{\\sqrt{\\pi}} \\approx 1.128379\n",
    "$$\n",
    "\n",
    "This can be done for the remainder of the derivativatives, and so we can compute the second derivative and evaluate at $x = 0$."
   ]
  },
  {
   "cell_type": "code",
   "execution_count": 91,
   "metadata": {},
   "outputs": [
    {
     "data": {
      "text/latex": [
       "$\\displaystyle - \\frac{4 x e^{- x^{2}}}{\\sqrt{\\pi}}$"
      ],
      "text/plain": [
       "-4*x*exp(-x**2)/sqrt(pi)"
      ]
     },
     "execution_count": 91,
     "metadata": {},
     "output_type": "execute_result"
    }
   ],
   "source": [
    "# Computing second derivative of erf\n",
    "sec_derf = derf.diff(x)\n",
    "sec_derf"
   ]
  },
  {
   "cell_type": "code",
   "execution_count": 93,
   "metadata": {},
   "outputs": [
    {
     "data": {
      "text/latex": [
       "$\\displaystyle 0$"
      ],
      "text/plain": [
       "0"
      ]
     },
     "execution_count": 93,
     "metadata": {},
     "output_type": "execute_result"
    }
   ],
   "source": [
    "# Evaluating second derivative at x = 0\n",
    "sec_derf.subs(x, 0).evalf()"
   ]
  },
  {
   "cell_type": "markdown",
   "metadata": {},
   "source": [
    "And so the second derivative of the $erf(x)$ is given as \n",
    "$$\n",
    "erf''(x) = -\\frac{4x e^{-x^2}}{\\sqrt{\\pi}}\n",
    "$$\n",
    "Which is evaluated at $x = 0$ as \n",
    "$$\n",
    "erf''(0) = 0\n",
    "$$\n",
    "\n",
    "And now for the third derivative of the $erf(x)$."
   ]
  },
  {
   "cell_type": "code",
   "execution_count": 95,
   "metadata": {},
   "outputs": [
    {
     "data": {
      "text/latex": [
       "$\\displaystyle \\frac{8 x^{2} e^{- x^{2}}}{\\sqrt{\\pi}} - \\frac{4 e^{- x^{2}}}{\\sqrt{\\pi}}$"
      ],
      "text/plain": [
       "8*x**2*exp(-x**2)/sqrt(pi) - 4*exp(-x**2)/sqrt(pi)"
      ]
     },
     "execution_count": 95,
     "metadata": {},
     "output_type": "execute_result"
    }
   ],
   "source": [
    "# Computing third derivative of erf\n",
    "third_derf = sec_derf.diff(x)\n",
    "third_derf"
   ]
  },
  {
   "cell_type": "code",
   "execution_count": 98,
   "metadata": {},
   "outputs": [
    {
     "data": {
      "text/latex": [
       "$\\displaystyle -2.25675833419103$"
      ],
      "text/plain": [
       "-2.25675833419103"
      ]
     },
     "execution_count": 98,
     "metadata": {},
     "output_type": "execute_result"
    }
   ],
   "source": [
    "# Evaluating third derivative at x = 0\n",
    "third_derf.subs(x, 0).evalf()"
   ]
  },
  {
   "cell_type": "markdown",
   "metadata": {},
   "source": [
    "And so the third derivative of $erf(x)$ is given as \n",
    "$$\n",
    "erf^{(3)} (x) = \\frac{8x^2 e^{- x^{2}}}{\\sqrt{\\pi}} - \\frac{4 e^{- x^{2}}}{\\sqrt{\\pi}}\n",
    "$$\n",
    "which is evaluated at $x = 0$ as\n",
    "$$\n",
    "erf^{(3)} (0) = -\\frac{4}{\\sqrt{\\pi}} \\approx -2.256758\n",
    "$$\n",
    "\n",
    "And now for the fourth derivative of $erf(x)$."
   ]
  },
  {
   "cell_type": "code",
   "execution_count": 99,
   "metadata": {},
   "outputs": [
    {
     "data": {
      "text/latex": [
       "$\\displaystyle - \\frac{16 x^{3} e^{- x^{2}}}{\\sqrt{\\pi}} + \\frac{24 x e^{- x^{2}}}{\\sqrt{\\pi}}$"
      ],
      "text/plain": [
       "-16*x**3*exp(-x**2)/sqrt(pi) + 24*x*exp(-x**2)/sqrt(pi)"
      ]
     },
     "execution_count": 99,
     "metadata": {},
     "output_type": "execute_result"
    }
   ],
   "source": [
    "# Computing fourth derivative of erf\n",
    "fourth_derf = third_derf.diff(x)\n",
    "fourth_derf"
   ]
  },
  {
   "cell_type": "code",
   "execution_count": 102,
   "metadata": {},
   "outputs": [
    {
     "data": {
      "text/latex": [
       "$\\displaystyle 0$"
      ],
      "text/plain": [
       "0"
      ]
     },
     "execution_count": 102,
     "metadata": {},
     "output_type": "execute_result"
    }
   ],
   "source": [
    "# Evaluating fourth derivative at x = 0\n",
    "fourth_derf.subs(x, 0).evalf()"
   ]
  },
  {
   "cell_type": "markdown",
   "metadata": {},
   "source": [
    "The fourth derivative of $erf(x)$ is given by\n",
    "$$\n",
    "erf^{(4)} (x) = -\\frac{16 x^3 e^{- x^{2}}}{\\sqrt{\\pi}} + \\frac{24 x e^{- x^{2}}}{\\sqrt{\\pi}}\n",
    "$$\n",
    "which is evaluated for $x = 0$ as\n",
    "$$\n",
    "erf^{(4)} (0) = 0\n",
    "$$\n",
    "\n",
    "And finally we compute the fifth derivative of $erf(x)$."
   ]
  },
  {
   "cell_type": "code",
   "execution_count": 103,
   "metadata": {},
   "outputs": [
    {
     "data": {
      "text/latex": [
       "$\\displaystyle \\frac{32 x^{4} e^{- x^{2}}}{\\sqrt{\\pi}} - \\frac{96 x^{2} e^{- x^{2}}}{\\sqrt{\\pi}} + \\frac{24 e^{- x^{2}}}{\\sqrt{\\pi}}$"
      ],
      "text/plain": [
       "32*x**4*exp(-x**2)/sqrt(pi) - 96*x**2*exp(-x**2)/sqrt(pi) + 24*exp(-x**2)/sqrt(pi)"
      ]
     },
     "execution_count": 103,
     "metadata": {},
     "output_type": "execute_result"
    }
   ],
   "source": [
    "# Computing fifth derivative of erf\n",
    "fifth_derf = fourth_derf.diff(x)\n",
    "fifth_derf"
   ]
  },
  {
   "cell_type": "code",
   "execution_count": 107,
   "metadata": {},
   "outputs": [
    {
     "data": {
      "text/latex": [
       "$\\displaystyle 13.5405500051462$"
      ],
      "text/plain": [
       "13.5405500051462"
      ]
     },
     "execution_count": 107,
     "metadata": {},
     "output_type": "execute_result"
    }
   ],
   "source": [
    "# Evaluating fifth derivative at x = 0\n",
    "fifth_derf.subs(x, 0).evalf()"
   ]
  },
  {
   "cell_type": "markdown",
   "metadata": {},
   "source": [
    "The fifth derivative of the Gauss error function is given by \n",
    "$$\n",
    "erf^{(5)} (x) = \\frac{32 x^4 e^{- x^{2}}}{\\sqrt{\\pi}} - \\frac{96 x^2 e^{- x^{2}}}{\\sqrt{\\pi}} + \\frac{24 x^2 e^{- x^{2}}}{\\sqrt{\\pi}}\n",
    "$$\n",
    "which is evaluated for $x = 0$ as \n",
    "$$\n",
    "erf^{(5)} (0) = \\frac{24}{\\sqrt{\\pi}} \\approx 13.540550\n",
    "$$\n",
    "\n",
    "We can now write down the $5th$-degree Taylor polynomial of the error function. The Taylor polynomial of a degree $5$ is defined as\n",
    "$$\n",
    "T_5 (x) = \\sum_{n = 0}^5 \\frac{erf^{(n)}(a)}{n!}(x - a)^n\n",
    "$$\n",
    "Using the derivatives we get that the Taylor polynomial of degree $5$ for the Gauss error function is given by\n",
    "$$\n",
    "T_5 (x) = \\frac{2}{\\sqrt{\\pi}} (x - 0)^1 - \\frac{4}{\\sqrt{\\pi}} (x - 0)^3 + \\frac{24}{\\sqrt{\\pi}} (x - 0)^5\n",
    "$$\n",
    "or \n",
    "$$\n",
    "\\boxed{T_5 (x) = \\frac{2}{\\sqrt{\\pi}} \\left(x - 2x^3 + 12x^5\\right)}\n",
    "$$\n",
    "\n",
    "The multiplicity of a root $k$ is found by considering the value for the derivatives of the function at the root. If the value for first $m-1$ derivatives of the function is zero and the value for the $m$-th derivative is non-zero, then the multiplicity of the root $k$ is $m$.  \n",
    "And so since the first derivative of $erf(x)$ is non-zero, then the multiplicity of the root $x = 0$ is *one*.\n",
    "\n",
    "\n",
    "\n"
   ]
  },
  {
   "cell_type": "markdown",
   "metadata": {},
   "source": [
    "#### (b)\n",
    "\n",
    "We are here asked to consider the points $(x_1, y_1), ..., (x_5, y_5)$ which are given by\n",
    "$$\n",
    " x_1 = 0,\\; \\; x_2 = 1/2,\\; \\; x_3 = 1,\\; \\; x_4 = 3/2, \\; \\; x_5 = 2\n",
    "$$\n",
    "and $y_i = e^{-x_i^2}$ for $i = 1, ..., 5$. We are asked to find the $4th$-degree interpolating polynomial $P_4 (x)$ of these points, and compute its anti-derivative. We are also asked to find the polynomial \n",
    "$$\n",
    "P_5 (x) = \\int_0^x P_4 (t) dt\n",
    "$$\n",
    "We are also asked to elaborate on whether we expect $P_5 (x)$ to be a good approximation to $erf(x)$.\n",
    "\n"
   ]
  }
 ],
 "metadata": {
  "kernelspec": {
   "display_name": "Python 3.10.4 64-bit",
   "language": "python",
   "name": "python3"
  },
  "language_info": {
   "codemirror_mode": {
    "name": "ipython",
    "version": 3
   },
   "file_extension": ".py",
   "mimetype": "text/x-python",
   "name": "python",
   "nbconvert_exporter": "python",
   "pygments_lexer": "ipython3",
   "version": "3.10.4"
  },
  "orig_nbformat": 4,
  "vscode": {
   "interpreter": {
    "hash": "369f2c481f4da34e4445cda3fffd2e751bd1c4d706f27375911949ba6bb62e1c"
   }
  }
 },
 "nbformat": 4,
 "nbformat_minor": 2
}
