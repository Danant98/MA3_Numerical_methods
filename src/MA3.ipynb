{
 "cells": [
  {
   "cell_type": "markdown",
   "metadata": {},
   "source": [
    "# Mandatory Assignment 3\n",
    "\n",
    "#### MAT-2201 Numerical Methods\n",
    "\n",
    " Daniel Elisabethsønn Antonsen, UiT"
   ]
  },
  {
   "cell_type": "markdown",
   "metadata": {},
   "source": [
    "Importing libraries and modules needed for the assignment."
   ]
  },
  {
   "cell_type": "code",
   "execution_count": 1,
   "metadata": {},
   "outputs": [],
   "source": [
    "import numpy as np\n",
    "import matplotlib.pyplot as plt\n",
    "import seaborn as sns\n",
    "plt.style.use('seaborn-whitegrid')"
   ]
  },
  {
   "cell_type": "markdown",
   "metadata": {},
   "source": [
    "## Problem 1\n",
    "\n",
    "*Solve Problem 3 from the MAT-2201 exam from December 2019.*\n",
    "\n",
    "A quantity $y(t)$ depends on the time variable $t$, is measured in four time points. The measurements are given in the table below."
   ]
  },
  {
   "cell_type": "markdown",
   "metadata": {},
   "source": [
    "| $t_i$ for $i = 1,...,4$ | $y_i$ for $i = 1,...,4$ |\n",
    "|------------------------|-------------------------|\n",
    "| 0                    | 1                     |\n",
    "| 1                    | 2                     |\n",
    "| 2                    | 7                     |\n",
    "| 3                    | 5                     |"
   ]
  },
  {
   "cell_type": "markdown",
   "metadata": {},
   "source": [
    "#### (a)\n",
    "\n",
    "We are here asked to find a polynomial $P(t)$ of degree $\\leq 2$ that goes through the **first three** points\n",
    "$$\n",
    "(t_1, y_1), (t_2, y_2), (t_3, y_3).\n",
    "$$\n",
    "\n",
    "To find the polynomial $P(t)$ we can make use of Lagrange interpolation, which is defined of a degree $leq 2$ as\n",
    "$$\n",
    "P_2 (t) = y_1\\frac{(t - t_2) (t - t_3)}{(t_1 - t_2)(t_1 - t_3)} + y_2\\frac{(t - t_1) (t - t_3)}{(t_2 - t_1)(t_2 - t_3)} + y_3\\frac{(t - t_1) (t - t_2)}{(t_3 - t_1)(t_3 - t_2)}\n",
    "$$\n",
    "And so by using the values given in the table we can compute the polynomial as\n",
    "\n",
    "\\begin{align*}\n",
    "P_2 (t) &= 1 \\frac{(t - 1) (t - 2)}{(0 - 1)(0 - 2)} + 2 \\frac{(t - 0) (t - 2)}{(1 - 0)(1 - 2)} + 7 \\frac{(t - 0) (t - 1)}{(2 - 0)(2 - 1)} \\\\\n",
    "&= \\frac{1}{2} t^2 - \\frac32 t + 1 - 2t^2 + 2t + \\frac{7}{2} t^2 - \\frac{7}{2} t \\\\\n",
    "&= \\underline{2t^2 - 3t + 1}\n",
    "\\end{align*}\n",
    "\n",
    "And so a polynomial $P(t)$ of degree $\\leq 2$ is given by\n",
    "$$\n",
    "\\boxed{P(t) = 2t^2 - 3t + 1}\n",
    "$$\n",
    "\n"
   ]
  },
  {
   "cell_type": "markdown",
   "metadata": {},
   "source": [
    "#### (b)\n",
    "\n",
    "We are here asked to find a polynomial $S(t)$ of degree $\\leq 2$ that fits the **four** points \n",
    "$$\n",
    "(t_1, y_1), (t_2, y_2), (t_3, y_3), (t_4, y_4).\n",
    "$$\n",
    "i.e. that **minimizes** the sum given by\n",
    "$$\n",
    "\\sum_{i=1}^4 (S(t_i) - y_i)^2.\n",
    "$$\n",
    "\n",
    "The sum given in the problem, is the squared error or residuals. We can minimize this by using the method of least squares, and if we are given a data set of $m$ data points, can be implemented in three steps.\n",
    "\n",
    "(1) Choose a model, a parametrized model. This model in our case, will be of the form\n",
    "$$\n",
    "S(t) = y = c_1 + c_2 t + c_3 t^2\n",
    "$$\n",
    "(2) We then force the model to fit the given data set by substituting in the data points. Each of the data points will then form an equation where all the unknowns are the parameters $c_1$, $c_2$ and $c_3$. This will then form the system of equation given in matrix form as \n",
    "$$\n",
    "A C = b\n",
    "$$\n",
    "Where $t$ represents the unknown parameters.  \n",
    "(3) As the last step, we solve the normal equations which gives us the least squares estimate for the parameters $\\bar{C}$. The normal equation in found by computing \n",
    "$$\n",
    "A^T A C = A^T b\n",
    "$$\n",
    "Or rewriting to \n",
    "$$\n",
    "C = (A^T A)^{-1} A^T b\n",
    "$$\n",
    "where $C = \\begin{pmatrix} c_1 & c_2 & c_3 \\end{pmatrix}^T$. And so, we can start by considering step $1$ and choose a model of the form \n",
    "$$\n",
    "S(t) = y = c_1 + c_2 t + c_3 t^2\n",
    "$$\n",
    "Which leads to the system of equations given as\n",
    "\n",
    "\\begin{align*}\n",
    "y_1 &= c_1 + 0 \\cdot c_2 + 0 \\cdot c_3 = 1 \\\\\n",
    "y_2 &= c_1 + c_2 + c_3 = 2 \\\\\n",
    "y_3 &= c_1 + 2 c_2 + 4 c_3 = 7 \\\\\n",
    "y_4 &= c_1 + 3 c_2 + 9 c_3 = 5\n",
    "\\end{align*}\n",
    "\n",
    "Which in matrix form can be written as \n",
    "$$\n",
    "\\begin{pmatrix} 1 & 0 & 0 \\\\ 1 & 1 & 1 \\\\ 1 & 2 & 4 \\\\ 1 & 3 & 9 \\end{pmatrix}\n",
    "\\begin{pmatrix} c_1 \\\\ c_2 \\\\ c_3 \\end{pmatrix} \n",
    "= \n",
    "\\begin{pmatrix} 1 \\\\ 2 \\\\ 7 \\\\ 5 \\end{pmatrix}\n",
    "$$\n",
    "\n",
    "We can here begin to solve and so solve the equations by finding the matricies $A^T A$ and $A^T $, before solving the normal equation by hand. Or we can simply use python code to solve the equations by implementing the matricies found above. We will here use the second choice for solving and impelment python code for solving for the coefficients.\n",
    "\n",
    "We start by implementing the matricies as arrays"
   ]
  },
  {
   "cell_type": "code",
   "execution_count": 2,
   "metadata": {},
   "outputs": [],
   "source": [
    "A = np.array([[1, 0, 0], [1, 1, 1], [1, 2, 4], [1, 3, 9]])\n",
    "b = np.array([[1], [2], [7], [5]])"
   ]
  },
  {
   "cell_type": "markdown",
   "metadata": {},
   "source": [
    "Now that we have implemented the arrays for the known matricies, we can now solvbe the normal equations given as\n",
    "$$\n",
    "C = (A^T A)^{-1} A^T b\n",
    "$$\n",
    "And so"
   ]
  },
  {
   "cell_type": "code",
   "execution_count": 3,
   "metadata": {},
   "outputs": [
    {
     "name": "stdout",
     "output_type": "stream",
     "text": [
      "The solution for the normal equation is [[ 0.45  3.95 -0.75]]^T\n"
     ]
    }
   ],
   "source": [
    "C = np.linalg.inv(A.T@A)@A.T@b\n",
    "print(f\"The solution for the normal equation is {C.T}^T\")"
   ]
  },
  {
   "cell_type": "markdown",
   "metadata": {},
   "source": [
    "And so, with this result we have that the coefficients are given as \n",
    "$$\n",
    "C \n",
    "= \n",
    "\\begin{pmatrix} c_1 \\\\ c_2 \\\\ c_3 \\end{pmatrix}\n",
    "=\n",
    "\\begin{pmatrix} 0.45 \\\\ 3.95 \\\\ -0.75 \\end{pmatrix}\n",
    "$$\n",
    "\n",
    "Using this result, we get that a polynomial given by\n",
    "$$\n",
    "S(t) = -0.75 t^2 + 3.95 t + 0.45\n",
    "$$\n",
    "which minimizes the the sum \n",
    "$$\n",
    "\\sum_{i = 1}^4 (S(t_i) - y_i)^2.\n",
    "$$\n"
   ]
  },
  {
   "cell_type": "markdown",
   "metadata": {},
   "source": [
    "#### (c)\n",
    "\n",
    "We are given the matrix\n",
    "$$\n",
    "B = \\begin{bmatrix} 1 & 0 \\\\ 1 & 1 \\\\ 1 & 2 \\\\ 1 & 3 \\end{bmatrix}\n",
    "$$\n",
    "and is asked to find the **reduced** QR factorization of B, i.e. express B as \n",
    "$$\n",
    "B = QR\n",
    "$$\n",
    "where \n",
    "$$\n",
    "Q = \\begin{bmatrix} \\mathbf{q}_1 & \\mathbf{q}_2 \\end{bmatrix}\n",
    "$$\n",
    "is a $4\\times 2$ matrix with orthonormal columns ($\\mathbf{q}_i \\cdot \\mathbf{q}_j = 0$ if $i \\neq j$ and $1$ if $i = j$), and $R$ is an upper-triangular $2\\times 2$ matrix.\n",
    "\n",
    "We can start by computing the QR factorization we can start by setting \n",
    "$$\n",
    "y_1 = B_1 = \\begin{bmatrix} 1 \\\\ 1 \\\\ 1 \\\\ 1 \\end{bmatrix}\n",
    "$$\n",
    "Then we can further compute the $2$-norm or the Euclidean norm, which gives\n",
    "$$\n",
    "r_{1 1} = ||y_1||_2 = \\sqrt{1^2 + 1^2 + 1^2 + 1^2} = \\sqrt{4} = 2\n",
    "$$\n",
    "And so, the first unit vector is then found by\n",
    "$$\n",
    "q_1 = \\frac{y_1}{||y_1||_2} \n",
    "= \\frac12 \\begin{bmatrix} 1 \\\\ 1 \\\\ 1 \\\\ 1 \\end{bmatrix}\n",
    "= \\begin{bmatrix} 1/2 \\\\ 1/2 \\\\ 1/2 \\\\ 1/2 \\end{bmatrix}\n",
    "$$\n",
    "Now that we have found the first unit vector or the orthonormal vector, we can continue by finding the second unit vector. This can be found by\n",
    "$$\n",
    "y_2 = B_2 - q_1 q_1^T B_2 \n",
    "= \\begin{bmatrix} 0 \\\\ 1 \\\\ 2 \\\\ 3 \\end{bmatrix} - \\begin{bmatrix} 3/2 \\\\ 3/2 \\\\ 3/2 \\\\ 3/2 \\end{bmatrix}\n",
    "= \\begin{bmatrix} -3/2 \\\\ -1/2 \\\\ 1/2 \\\\ 3/2 \\end{bmatrix}\n",
    "$$\n",
    "We can now compute the $2$-norm for $y_2$ which gives us \n",
    "$$\n",
    "r_{2 2} = ||y_2||_2 = \\sqrt{(-3/2)^2 + (-1/2)^2 + (1/2)^2 + (3/2)^2} = \\sqrt{5}\n",
    "$$\n",
    "And so the second unit vector is given by \n",
    "$$\n",
    "q_2 = \\frac{y_2}{||y_2||_2} = \\frac{1}{\\sqrt{5}} \\begin{bmatrix} -3/2 \\\\ -1/2 \\\\ 1/2 \\\\ 3/2 \\end{bmatrix}\n",
    "= \\begin{bmatrix} -\\frac{3}{2\\sqrt{5}} \\\\ -\\frac{1}{2\\sqrt{5}} \\\\ \\frac{1}{2\\sqrt{5}} \\\\ \\frac{3}{2\\sqrt{5}} \\end{bmatrix}\n",
    "$$\n",
    "We can also find the element which is not on the diagonal by, and since $R$ is upper-triangular we only need to consider \n",
    "$$\n",
    "r_{1 2} = q_1^T B_2\n",
    "$$\n",
    "And so $r_{1 2} = 3$, which gives that the $QR$ factorization for the matrix $B$ is given in matrix form as\n",
    "$$\n",
    "\\boxed{B = \\begin{bmatrix} 1 & 0 \\\\ 1 & 1 \\\\ 1 & 2 \\\\ 1 & 3 \\end{bmatrix}\n",
    "= \\begin{bmatrix} 1/2 & -\\frac{3}{2\\sqrt{5}} \\\\ 1/2 & -\\frac{1}{2\\sqrt{5}} \\\\ 1/2 & \\frac{1}{2\\sqrt{5}} \\\\ 1/2 & \\frac{3}{2\\sqrt{5}} \\end{bmatrix}\n",
    "\\begin{bmatrix} 2 & 3 \\\\ 0 & \\sqrt{5} \\end{bmatrix}\n",
    "= Q R}\n",
    "$$\n",
    "\n"
   ]
  },
  {
   "cell_type": "markdown",
   "metadata": {},
   "source": [
    "#### (d)\n",
    "\n",
    "We are here asked to find a polynomial $U(t)$ of degree $\\leq 1$ that fits the **four** points \n",
    "$$\n",
    "(t_1, y_1), (t_2, y_2), (t_3, y_3), (t_4, y_4).\n",
    "$$\n",
    "i.e. that **minimizes** the sum \n",
    "$$\n",
    "\\sum_{i = 1}^4 (U(t_i) - y_i)^2.\n",
    "$$\n",
    "We are asked to do this using the QR factorization of the matrix $B$ found in the previous part.\n",
    "\n",
    "If we are given a $m\\times n$ inconsistent system, in matrix form as\n",
    "$$\n",
    "Ax = b\n",
    "$$\n",
    "then we can solve for the least square solution using the $QR$ factorization by setting\n",
    "\n",
    "\\begin{align*}\n",
    "\\hat{R} = upper\\; n\\times n\\; submatrix\\; of\\; R \\\\ \n",
    "\\hat{d} = upper\\; n\\; entries\\; of\\; d = Q^T b\n",
    "\\end{align*}\n",
    "And so, then we need to solve the equation given as \n",
    "$$\n",
    "\\hat{R} \\bar{x} = \\hat{d} = Q^T b\n",
    "$$\n",
    "for $\\bar{x}$ which is the least square solution to the system $Ax = b$.\n",
    "\n"
   ]
  }
 ],
 "metadata": {
  "kernelspec": {
   "display_name": "Python 3.10.4 64-bit",
   "language": "python",
   "name": "python3"
  },
  "language_info": {
   "codemirror_mode": {
    "name": "ipython",
    "version": 3
   },
   "file_extension": ".py",
   "mimetype": "text/x-python",
   "name": "python",
   "nbconvert_exporter": "python",
   "pygments_lexer": "ipython3",
   "version": "3.10.4"
  },
  "orig_nbformat": 4,
  "vscode": {
   "interpreter": {
    "hash": "369f2c481f4da34e4445cda3fffd2e751bd1c4d706f27375911949ba6bb62e1c"
   }
  }
 },
 "nbformat": 4,
 "nbformat_minor": 2
}
